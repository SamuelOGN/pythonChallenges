{
 "cells": [
  {
   "cell_type": "markdown",
   "metadata": {},
   "source": [
    "## Array Data Structure"
   ]
  },
  {
   "cell_type": "markdown",
   "metadata": {},
   "source": [
    "### Question 1"
   ]
  },
  {
   "cell_type": "code",
   "execution_count": 6,
   "metadata": {},
   "outputs": [
    {
     "name": "stdout",
     "output_type": "stream",
     "text": [
      "In Febuary I spent 150 more than in January\n",
      "Total Expense in first quater was 7150\n",
      "False\n"
     ]
    },
    {
     "data": {
      "text/plain": [
       "[2200, 2350, 2600, 2330, 2190, 1980]"
      ]
     },
     "execution_count": 6,
     "metadata": {},
     "output_type": "execute_result"
    }
   ],
   "source": [
    "#Let us say your expense for every month are listed below,\n",
    "#January - 2200\n",
    "#February - 2350\n",
    "#March - 2600\n",
    "#April - 2130\n",
    "#May - 2190\n",
    "\n",
    "#Create a list to store these monthly expenses and using that find out,\n",
    "exps = [2200,2350,2600,2130,2190]\n",
    "\n",
    "#1. In Feb, how many dollars you spent extra compare to January?\n",
    "print(f'In Febuary I spent {exps[1]-exps[0]} more than in January')\n",
    "\n",
    "#2. Find out your total expense in first quarter (first three months) of the year.\n",
    "print(f'Total Expense in first quater was {exps[0]+exps[1]+exps[2]}')\n",
    "\n",
    "#3. Find out if you spent exactly 2000 dollars in any month\n",
    "print(2000 in exps)\n",
    "    \n",
    "#4. June month just finished and your expense is 1980 dollar. Add this item to our monthly expense list\n",
    "exps.append(1980)\n",
    "#5. You returned an item that you bought in a month of April and got a refund of 200$. Make a correction to your monthly expense list based on this\n",
    "exps[3] = exps[3] + 200\n",
    "exps"
   ]
  },
  {
   "cell_type": "markdown",
   "metadata": {},
   "source": [
    "### Question 2"
   ]
  },
  {
   "cell_type": "code",
   "execution_count": 27,
   "metadata": {},
   "outputs": [
    {
     "name": "stdout",
     "output_type": "stream",
     "text": [
      "5\n",
      "['spider man', 'thor', 'hulk', 'iron man', 'captain america', 'black panther']\n",
      "['spider man', 'thor', 'hulk', 'black panther', 'iron man', 'captain america']\n",
      "['spider man', 'doctor strange', 'black panther', 'iron man', 'captain america']\n",
      "['black panther', 'captain america', 'doctor strange', 'iron man', 'spider man']\n"
     ]
    }
   ],
   "source": [
    "#You have a list of your favourite marvel super heros.\n",
    "heros = ['spider man','thor','hulk','iron man','captain america']\n",
    "#Using this find out,\n",
    "\n",
    "#1. Length of the list\n",
    "print(len(heros))\n",
    "\n",
    "#2. Add 'black panther' at the end of this list\n",
    "heros.append('black panther')\n",
    "print(heros)\n",
    "\n",
    "#3. You realize that you need to add 'black panther' after 'hulk',\n",
    "   #so remove it from the list first and then add it after 'hulk'\n",
    "heros.remove('black panther')\n",
    "heros.insert(3, 'black panther')\n",
    "print(heros)\n",
    "#4. Now you don't like thor and hulk because they get angry easily :)\n",
    "   #So you want to remove thor and hulk from list and replace them with doctor strange (because he is cool).\n",
    "   #Do that with one line of code.\n",
    "heros[1:3] = ['doctor strange']\n",
    "print(heros)\n",
    "#5. Sort the heros list in alphabetical order (Hint. Use dir() functions to list down all functions available in list)\n",
    "heros.sort()\n",
    "print(heros)"
   ]
  },
  {
   "cell_type": "markdown",
   "metadata": {},
   "source": [
    "### Question 3"
   ]
  },
  {
   "cell_type": "code",
   "execution_count": 31,
   "metadata": {},
   "outputs": [
    {
     "name": "stdout",
     "output_type": "stream",
     "text": [
      "10\n",
      "[1, 3, 5, 7, 9]\n"
     ]
    }
   ],
   "source": [
    "#Create a list of all odd numbers between 1 and a max number. \n",
    "#Max number is something you need to take from a user using input() function\n",
    "max_num = int(input())\n",
    "my_list = []\n",
    "for i in range(1, max_num+1):\n",
    "    if i%2 != 0:\n",
    "        my_list.append(i)\n",
    "    \n",
    "print(my_list)"
   ]
  },
  {
   "cell_type": "markdown",
   "metadata": {},
   "source": [
    "## Linked Lists"
   ]
  },
  {
   "cell_type": "code",
   "execution_count": null,
   "metadata": {},
   "outputs": [],
   "source": []
  }
 ],
 "metadata": {
  "kernelspec": {
   "display_name": "Python 3",
   "language": "python",
   "name": "python3"
  },
  "language_info": {
   "codemirror_mode": {
    "name": "ipython",
    "version": 3
   },
   "file_extension": ".py",
   "mimetype": "text/x-python",
   "name": "python",
   "nbconvert_exporter": "python",
   "pygments_lexer": "ipython3",
   "version": "3.7.6"
  }
 },
 "nbformat": 4,
 "nbformat_minor": 4
}
